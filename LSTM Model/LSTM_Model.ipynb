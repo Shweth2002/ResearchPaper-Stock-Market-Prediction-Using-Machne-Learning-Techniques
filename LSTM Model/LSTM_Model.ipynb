{
 "cells": [
  {
   "cell_type": "code",
   "execution_count": 18,
   "id": "28478597",
   "metadata": {
    "scrolled": true
   },
   "outputs": [],
   "source": [
    "import pandas as pd\n",
    "import numpy as np\n",
    "import matplotlib.pyplot as plt\n",
    "from sklearn.preprocessing import MinMaxScaler\n",
    "import tensorflow as tf\n",
    "from keras.models import Sequential\n",
    "from keras.layers import Dense,LSTM,Dropout\n",
    "import warnings\n",
    "warnings.filterwarnings('ignore')"
   ]
  },
  {
   "cell_type": "code",
   "execution_count": 19,
   "id": "6be67298",
   "metadata": {
    "scrolled": true
   },
   "outputs": [
    {
     "data": {
      "text/html": [
       "<div>\n",
       "<style scoped>\n",
       "    .dataframe tbody tr th:only-of-type {\n",
       "        vertical-align: middle;\n",
       "    }\n",
       "\n",
       "    .dataframe tbody tr th {\n",
       "        vertical-align: top;\n",
       "    }\n",
       "\n",
       "    .dataframe thead th {\n",
       "        text-align: right;\n",
       "    }\n",
       "</style>\n",
       "<table border=\"1\" class=\"dataframe\">\n",
       "  <thead>\n",
       "    <tr style=\"text-align: right;\">\n",
       "      <th></th>\n",
       "      <th>Date</th>\n",
       "      <th>Open</th>\n",
       "      <th>High</th>\n",
       "      <th>Low</th>\n",
       "      <th>Close</th>\n",
       "      <th>Volume</th>\n",
       "    </tr>\n",
       "  </thead>\n",
       "  <tbody>\n",
       "    <tr>\n",
       "      <th>0</th>\n",
       "      <td>1/3/2012</td>\n",
       "      <td>325.25</td>\n",
       "      <td>332.83</td>\n",
       "      <td>324.97</td>\n",
       "      <td>663.59</td>\n",
       "      <td>7,380,500</td>\n",
       "    </tr>\n",
       "    <tr>\n",
       "      <th>1</th>\n",
       "      <td>1/4/2012</td>\n",
       "      <td>331.27</td>\n",
       "      <td>333.87</td>\n",
       "      <td>329.08</td>\n",
       "      <td>666.45</td>\n",
       "      <td>5,749,400</td>\n",
       "    </tr>\n",
       "    <tr>\n",
       "      <th>2</th>\n",
       "      <td>1/5/2012</td>\n",
       "      <td>329.83</td>\n",
       "      <td>330.75</td>\n",
       "      <td>326.89</td>\n",
       "      <td>657.21</td>\n",
       "      <td>6,590,300</td>\n",
       "    </tr>\n",
       "    <tr>\n",
       "      <th>3</th>\n",
       "      <td>1/6/2012</td>\n",
       "      <td>328.34</td>\n",
       "      <td>328.77</td>\n",
       "      <td>323.68</td>\n",
       "      <td>648.24</td>\n",
       "      <td>5,405,900</td>\n",
       "    </tr>\n",
       "    <tr>\n",
       "      <th>4</th>\n",
       "      <td>1/9/2012</td>\n",
       "      <td>322.04</td>\n",
       "      <td>322.29</td>\n",
       "      <td>309.46</td>\n",
       "      <td>620.76</td>\n",
       "      <td>11,688,800</td>\n",
       "    </tr>\n",
       "  </tbody>\n",
       "</table>\n",
       "</div>"
      ],
      "text/plain": [
       "       Date    Open    High     Low   Close      Volume\n",
       "0  1/3/2012  325.25  332.83  324.97  663.59   7,380,500\n",
       "1  1/4/2012  331.27  333.87  329.08  666.45   5,749,400\n",
       "2  1/5/2012  329.83  330.75  326.89  657.21   6,590,300\n",
       "3  1/6/2012  328.34  328.77  323.68  648.24   5,405,900\n",
       "4  1/9/2012  322.04  322.29  309.46  620.76  11,688,800"
      ]
     },
     "execution_count": 19,
     "metadata": {},
     "output_type": "execute_result"
    }
   ],
   "source": [
    "data=pd.read_csv(r\"C:\\Desktop1\\Shwetha V\\Research Paper\\Google_train_data.csv\")\n",
    "data.head()"
   ]
  },
  {
   "cell_type": "code",
   "execution_count": 20,
   "id": "32c8592d",
   "metadata": {},
   "outputs": [
    {
     "name": "stdout",
     "output_type": "stream",
     "text": [
      "<class 'pandas.core.frame.DataFrame'>\n",
      "RangeIndex: 1258 entries, 0 to 1257\n",
      "Data columns (total 6 columns):\n",
      " #   Column  Non-Null Count  Dtype  \n",
      "---  ------  --------------  -----  \n",
      " 0   Date    1258 non-null   object \n",
      " 1   Open    1258 non-null   float64\n",
      " 2   High    1258 non-null   float64\n",
      " 3   Low     1258 non-null   float64\n",
      " 4   Close   1258 non-null   object \n",
      " 5   Volume  1258 non-null   object \n",
      "dtypes: float64(3), object(3)\n",
      "memory usage: 59.1+ KB\n"
     ]
    }
   ],
   "source": [
    "data.info()"
   ]
  },
  {
   "cell_type": "code",
   "execution_count": 21,
   "id": "f0202641",
   "metadata": {
    "scrolled": true
   },
   "outputs": [],
   "source": [
    "data[\"Close\"]=pd.to_numeric(data.Close,errors=('coerce'))\n",
    "data=data.dropna()\n",
    "trainData = data.iloc[:,4:5].values"
   ]
  },
  {
   "cell_type": "code",
   "execution_count": 22,
   "id": "1d679ddc",
   "metadata": {
    "scrolled": true
   },
   "outputs": [
    {
     "name": "stdout",
     "output_type": "stream",
     "text": [
      "<class 'pandas.core.frame.DataFrame'>\n",
      "Int64Index: 1149 entries, 0 to 1257\n",
      "Data columns (total 6 columns):\n",
      " #   Column  Non-Null Count  Dtype  \n",
      "---  ------  --------------  -----  \n",
      " 0   Date    1149 non-null   object \n",
      " 1   Open    1149 non-null   float64\n",
      " 2   High    1149 non-null   float64\n",
      " 3   Low     1149 non-null   float64\n",
      " 4   Close   1149 non-null   float64\n",
      " 5   Volume  1149 non-null   object \n",
      "dtypes: float64(4), object(2)\n",
      "memory usage: 62.8+ KB\n"
     ]
    }
   ],
   "source": [
    "data.info()"
   ]
  },
  {
   "cell_type": "code",
   "execution_count": 23,
   "id": "efca25e4",
   "metadata": {},
   "outputs": [
    {
     "data": {
      "text/plain": [
       "(1149, 1)"
      ]
     },
     "execution_count": 23,
     "metadata": {},
     "output_type": "execute_result"
    }
   ],
   "source": [
    "sc = MinMaxScaler(feature_range=(0,1))\n",
    "trainData = sc.fit_transform(trainData)\n",
    "trainData.shape"
   ]
  },
  {
   "cell_type": "code",
   "execution_count": 24,
   "id": "7af4f20c",
   "metadata": {},
   "outputs": [],
   "source": [
    "X_train=[]\n",
    "y_train=[]\n",
    "\n",
    "for i in range (60,1149):\n",
    "    X_train.append(trainData[i-60:i,0])\n",
    "    y_train.append(trainData[i,0])\n",
    "\n",
    "X_train,y_train = np.array(X_train),np.array(y_train)"
   ]
  },
  {
   "cell_type": "code",
   "execution_count": 25,
   "id": "35a2856f",
   "metadata": {},
   "outputs": [
    {
     "data": {
      "text/plain": [
       "(1089, 60, 1)"
      ]
     },
     "execution_count": 25,
     "metadata": {},
     "output_type": "execute_result"
    }
   ],
   "source": [
    "X_train = np.reshape(X_train,(X_train.shape[0],X_train.shape[1],1))\n",
    "X_train.shape"
   ]
  },
  {
   "cell_type": "code",
   "execution_count": 26,
   "id": "748f9ca9",
   "metadata": {},
   "outputs": [],
   "source": [
    "model = Sequential()\n",
    "\n",
    "model.add(LSTM(units=100, return_sequences=True, input_shape =(X_train.shape[1],1)))\n",
    "model.add(Dropout(0.2))\n",
    "\n",
    "model.add(LSTM(units=100, return_sequences=True))\n",
    "model.add(Dropout(0.2))\n",
    "\n",
    "model.add(LSTM(units=100, return_sequences=True))\n",
    "model.add(Dropout(0.2))\n",
    "\n",
    "model.add(LSTM(units=100, return_sequences=False))\n",
    "model.add(Dropout(0.2))\n",
    "\n",
    "model.add(Dense(units=1))\n",
    "model.compile(optimizer='adam',loss=\"mean_squared_error\")"
   ]
  },
  {
   "cell_type": "code",
   "execution_count": 27,
   "id": "c73ca1c0",
   "metadata": {},
   "outputs": [
    {
     "name": "stdout",
     "output_type": "stream",
     "text": [
      "Epoch 1/20\n",
      "35/35 - 18s - loss: 0.0431 - 18s/epoch - 505ms/step\n",
      "Epoch 2/20\n",
      "35/35 - 7s - loss: 0.0118 - 7s/epoch - 200ms/step\n",
      "Epoch 3/20\n",
      "35/35 - 7s - loss: 0.0096 - 7s/epoch - 203ms/step\n",
      "Epoch 4/20\n",
      "35/35 - 7s - loss: 0.0090 - 7s/epoch - 198ms/step\n",
      "Epoch 5/20\n",
      "35/35 - 7s - loss: 0.0073 - 7s/epoch - 204ms/step\n",
      "Epoch 6/20\n",
      "35/35 - 7s - loss: 0.0079 - 7s/epoch - 200ms/step\n",
      "Epoch 7/20\n",
      "35/35 - 7s - loss: 0.0079 - 7s/epoch - 200ms/step\n",
      "Epoch 8/20\n",
      "35/35 - 7s - loss: 0.0083 - 7s/epoch - 200ms/step\n",
      "Epoch 9/20\n",
      "35/35 - 7s - loss: 0.0063 - 7s/epoch - 201ms/step\n",
      "Epoch 10/20\n",
      "35/35 - 7s - loss: 0.0068 - 7s/epoch - 205ms/step\n",
      "Epoch 11/20\n",
      "35/35 - 7s - loss: 0.0060 - 7s/epoch - 204ms/step\n",
      "Epoch 12/20\n",
      "35/35 - 7s - loss: 0.0056 - 7s/epoch - 202ms/step\n",
      "Epoch 13/20\n",
      "35/35 - 7s - loss: 0.0053 - 7s/epoch - 198ms/step\n",
      "Epoch 14/20\n",
      "35/35 - 7s - loss: 0.0067 - 7s/epoch - 201ms/step\n",
      "Epoch 15/20\n",
      "35/35 - 7s - loss: 0.0063 - 7s/epoch - 199ms/step\n",
      "Epoch 16/20\n",
      "35/35 - 7s - loss: 0.0050 - 7s/epoch - 199ms/step\n",
      "Epoch 17/20\n",
      "35/35 - 7s - loss: 0.0052 - 7s/epoch - 202ms/step\n",
      "Epoch 18/20\n",
      "35/35 - 7s - loss: 0.0049 - 7s/epoch - 199ms/step\n",
      "Epoch 19/20\n",
      "35/35 - 7s - loss: 0.0049 - 7s/epoch - 208ms/step\n",
      "Epoch 20/20\n",
      "35/35 - 7s - loss: 0.0048 - 7s/epoch - 203ms/step\n"
     ]
    }
   ],
   "source": [
    "hist = model.fit(X_train, y_train, epochs=20, batch_size = 32,verbose = 2)"
   ]
  },
  {
   "cell_type": "code",
   "execution_count": 33,
   "id": "73e4e484",
   "metadata": {},
   "outputs": [
    {
     "data": {
      "image/png": "[encoded data removed]",
      "text/plain": [
       "<Figure size 640x480 with 1 Axes>"
      ]
     },
     "metadata": {},
     "output_type": "display_data"
    }
   ],
   "source": [
    "plt.plot(hist.history['loss'])\n",
    "plt.title('Training model loss')\n",
    "plt.ylabel('loss')\n",
    "plt.xlabel('epoch')\n",
    "plt.legend(['train'], loc='upper left')\n",
    "plt.show()"
   ]
  },
  {
   "cell_type": "code",
   "execution_count": 34,
   "id": "be27b9db",
   "metadata": {},
   "outputs": [
    {
     "data": {
      "text/plain": [
       "(192, 60, 1)"
      ]
     },
     "execution_count": 34,
     "metadata": {},
     "output_type": "execute_result"
    }
   ],
   "source": [
    "testData = pd.read_csv(r'C:\\Desktop1\\Shwetha V\\Research Paper\\Google_test_data.csv')\n",
    "testData[\"Close\"]=pd.to_numeric(testData.Close,errors='coerce')\n",
    "testData = testData.dropna()\n",
    "testData = testData.iloc[:,4:5]\n",
    "y_test = testData.iloc[60:,0:].values\n",
    "inputClosing = testData.iloc[:,0:].values\n",
    "inputClosing_scaled = sc.transform(inputClosing)\n",
    "inputClosing_scaled.shape\n",
    "X_test = []\n",
    "length = len(testData)\n",
    "timestep = 60\n",
    "for i in range(timestep,length):\n",
    "    X_test.append(inputClosing_scaled[i-timestep:i,0])\n",
    "X_test = np.array(X_test)\n",
    "X_test = np.reshape(X_test,(X_test.shape[0],X_test.shape[1],1))\n",
    "X_test.shape\n"
   ]
  },
  {
   "cell_type": "code",
   "execution_count": 35,
   "id": "478367be",
   "metadata": {},
   "outputs": [
    {
     "name": "stdout",
     "output_type": "stream",
     "text": [
      "6/6 [==============================] - 0s 81ms/step\n"
     ]
    },
    {
     "data": {
      "text/plain": [
       "array([[1.2428862],\n",
       "       [1.245752 ],\n",
       "       [1.2561913],\n",
       "       [1.2725602],\n",
       "       [1.2875123],\n",
       "       [1.2914855],\n",
       "       [1.2829846],\n",
       "       [1.267635 ],\n",
       "       [1.2553282],\n",
       "       [1.2496673],\n",
       "       [1.2422533],\n",
       "       [1.2314148],\n",
       "       [1.221029 ],\n",
       "       [1.2111908],\n",
       "       [1.2073001],\n",
       "       [1.2097249],\n",
       "       [1.2245523],\n",
       "       [1.250277 ],\n",
       "       [1.2818642],\n",
       "       [1.3149885],\n",
       "       [1.3334035],\n",
       "       [1.3363918],\n",
       "       [1.3220137],\n",
       "       [1.2962843],\n",
       "       [1.2695118],\n",
       "       [1.2506546],\n",
       "       [1.2421093],\n",
       "       [1.2384475],\n",
       "       [1.2311575],\n",
       "       [1.2209079],\n",
       "       [1.2092414],\n",
       "       [1.195851 ],\n",
       "       [1.1766375],\n",
       "       [1.1525452],\n",
       "       [1.1394106],\n",
       "       [1.1436373],\n",
       "       [1.1612694],\n",
       "       [1.1847306],\n",
       "       [1.2091933],\n",
       "       [1.2249693],\n",
       "       [1.2395889],\n",
       "       [1.255566 ],\n",
       "       [1.2733645],\n",
       "       [1.2904111],\n",
       "       [1.3031466],\n",
       "       [1.3074032],\n",
       "       [1.300917 ],\n",
       "       [1.2927519],\n",
       "       [1.2886977],\n",
       "       [1.2916738],\n",
       "       [1.3018776],\n",
       "       [1.3106056],\n",
       "       [1.3146422],\n",
       "       [1.3136045],\n",
       "       [1.3124589],\n",
       "       [1.3092707],\n",
       "       [1.3019177],\n",
       "       [1.2969925],\n",
       "       [1.3026003],\n",
       "       [1.3173498],\n",
       "       [1.3406762],\n",
       "       [1.3703439],\n",
       "       [1.3944193],\n",
       "       [1.4038297],\n",
       "       [1.3978915],\n",
       "       [1.3816701],\n",
       "       [1.367039 ],\n",
       "       [1.3591592],\n",
       "       [1.3586117],\n",
       "       [1.3615257],\n",
       "       [1.3659242],\n",
       "       [1.3693403],\n",
       "       [1.3674077],\n",
       "       [1.3629628],\n",
       "       [1.3583424],\n",
       "       [1.3561023],\n",
       "       [1.3569007],\n",
       "       [1.3607323],\n",
       "       [1.3706449],\n",
       "       [1.3866175],\n",
       "       [1.408151 ],\n",
       "       [1.4303676],\n",
       "       [1.4457499],\n",
       "       [1.4516305],\n",
       "       [1.4564002],\n",
       "       [1.466906 ],\n",
       "       [1.4826154],\n",
       "       [1.4979072],\n",
       "       [1.508591 ],\n",
       "       [1.5132555],\n",
       "       [1.5158142],\n",
       "       [1.5234348],\n",
       "       [1.5378326],\n",
       "       [1.5498711],\n",
       "       [1.5524132],\n",
       "       [1.5436662],\n",
       "       [1.5249352],\n",
       "       [1.5006961],\n",
       "       [1.4777315],\n",
       "       [1.4649776],\n",
       "       [1.4652462],\n",
       "       [1.4766307],\n",
       "       [1.4957904],\n",
       "       [1.5155451],\n",
       "       [1.5303806],\n",
       "       [1.5370196],\n",
       "       [1.5373324],\n",
       "       [1.5345383],\n",
       "       [1.5338362],\n",
       "       [1.5370816],\n",
       "       [1.5444214],\n",
       "       [1.5556805],\n",
       "       [1.5682591],\n",
       "       [1.5820718],\n",
       "       [1.5986476],\n",
       "       [1.6138345],\n",
       "       [1.6262802],\n",
       "       [1.6368127],\n",
       "       [1.6484361],\n",
       "       [1.6378819],\n",
       "       [1.6000978],\n",
       "       [1.5451764],\n",
       "       [1.4930856],\n",
       "       [1.4564198],\n",
       "       [1.4353503],\n",
       "       [1.425534 ],\n",
       "       [1.4224229],\n",
       "       [1.4236333],\n",
       "       [1.4206623],\n",
       "       [1.4098443],\n",
       "       [1.4031192],\n",
       "       [1.4083681],\n",
       "       [1.4210554],\n",
       "       [1.430687 ],\n",
       "       [1.4355422],\n",
       "       [1.4368242],\n",
       "       [1.4339305],\n",
       "       [1.4266071],\n",
       "       [1.4169416],\n",
       "       [1.4037148],\n",
       "       [1.3890394],\n",
       "       [1.372723 ],\n",
       "       [1.3428853],\n",
       "       [1.3050832],\n",
       "       [1.2658613],\n",
       "       [1.2324444],\n",
       "       [1.2134722],\n",
       "       [1.2131659],\n",
       "       [1.2278818],\n",
       "       [1.2502795],\n",
       "       [1.2757522],\n",
       "       [1.2991092],\n",
       "       [1.318453 ],\n",
       "       [1.3348976],\n",
       "       [1.3480471],\n",
       "       [1.3591098],\n",
       "       [1.3700882],\n",
       "       [1.3792394],\n",
       "       [1.3791963],\n",
       "       [1.3680913],\n",
       "       [1.3487718],\n",
       "       [1.3275558],\n",
       "       [1.31279  ],\n",
       "       [1.3098557],\n",
       "       [1.3196496],\n",
       "       [1.3397988],\n",
       "       [1.3612975],\n",
       "       [1.3798008],\n",
       "       [1.3962591],\n",
       "       [1.4110698],\n",
       "       [1.4234586],\n",
       "       [1.4335308],\n",
       "       [1.4415047],\n",
       "       [1.4455484],\n",
       "       [1.4454426],\n",
       "       [1.4387709],\n",
       "       [1.4286865],\n",
       "       [1.4200929],\n",
       "       [1.4133912],\n",
       "       [1.4073764],\n",
       "       [1.4266574],\n",
       "       [1.4697245],\n",
       "       [1.520357 ],\n",
       "       [1.562324 ],\n",
       "       [1.5863272],\n",
       "       [1.5890375],\n",
       "       [1.5664603],\n",
       "       [1.5309244],\n",
       "       [1.49525  ],\n",
       "       [1.4740006],\n",
       "       [1.4663844],\n",
       "       [1.4653137]], dtype=float32)"
      ]
     },
     "execution_count": 35,
     "metadata": {},
     "output_type": "execute_result"
    }
   ],
   "source": [
    "y_pred=model.predict(X_test)\n",
    "y_pred"
   ]
  },
  {
   "cell_type": "code",
   "execution_count": 36,
   "id": "9f3fe7b0",
   "metadata": {},
   "outputs": [],
   "source": [
    "predicted_price = sc.inverse_transform(y_pred)"
   ]
  },
  {
   "cell_type": "code",
   "execution_count": 37,
   "id": "5d8fbdb2",
   "metadata": {},
   "outputs": [
    {
     "data": {
      "image/png": "[encoded data removed]",
      "text/plain": [
       "<Figure size 640x480 with 1 Axes>"
      ]
     },
     "metadata": {},
     "output_type": "display_data"
    }
   ],
   "source": [
    "plt.plot(y_test, color='red', label='Actual Stock Price')\n",
    "plt.plot(predicted_price, color='green', label='Predicted Stock Price')\n",
    "plt.title('Google stock price prediction')\n",
    "plt.xlabel('Time')\n",
    "plt.ylabel('stock price')\n",
    "plt.legend()\n",
    "plt.show()"
   ]
  },
  {
   "cell_type": "code",
   "execution_count": null,
   "id": "60a1274c",
   "metadata": {},
   "outputs": [],
   "source": []
  },
  {
   "cell_type": "code",
   "execution_count": null,
   "id": "53698343",
   "metadata": {},
   "outputs": [],
   "source": []
  }
 ],
 "metadata": {
  "kernelspec": {
   "display_name": "Python 3 (ipykernel)",
   "language": "python",
   "name": "python3"
  },
  "language_info": {
   "codemirror_mode": {
    "name": "ipython",
    "version": 3
   },
   "file_extension": ".py",
   "mimetype": "text/x-python",
   "name": "python",
   "nbconvert_exporter": "python",
   "pygments_lexer": "ipython3",
   "version": "3.9.13"
  }
 },
 "nbformat": 4,
 "nbformat_minor": 5
}
